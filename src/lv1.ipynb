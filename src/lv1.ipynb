{
 "cells": [
  {
   "cell_type": "code",
   "execution_count": 1,
   "metadata": {
    "vscode": {
     "languageId": "shellscript"
    }
   },
   "outputs": [
    {
     "name": "stdout",
     "output_type": "stream",
     "text": [
      "Requirement already satisfied: ollama==0.3.3 in /Users/jyje/.pyenv/versions/3.12.7/envs/pilot-ollama/lib/python3.12/site-packages (from -r requirements.txt (line 1)) (0.3.3)\n",
      "Requirement already satisfied: httpx<0.28.0,>=0.27.0 in /Users/jyje/.pyenv/versions/3.12.7/envs/pilot-ollama/lib/python3.12/site-packages (from ollama==0.3.3->-r requirements.txt (line 1)) (0.27.2)\n",
      "Requirement already satisfied: anyio in /Users/jyje/.pyenv/versions/3.12.7/envs/pilot-ollama/lib/python3.12/site-packages (from httpx<0.28.0,>=0.27.0->ollama==0.3.3->-r requirements.txt (line 1)) (4.6.2.post1)\n",
      "Requirement already satisfied: certifi in /Users/jyje/.pyenv/versions/3.12.7/envs/pilot-ollama/lib/python3.12/site-packages (from httpx<0.28.0,>=0.27.0->ollama==0.3.3->-r requirements.txt (line 1)) (2024.8.30)\n",
      "Requirement already satisfied: httpcore==1.* in /Users/jyje/.pyenv/versions/3.12.7/envs/pilot-ollama/lib/python3.12/site-packages (from httpx<0.28.0,>=0.27.0->ollama==0.3.3->-r requirements.txt (line 1)) (1.0.7)\n",
      "Requirement already satisfied: idna in /Users/jyje/.pyenv/versions/3.12.7/envs/pilot-ollama/lib/python3.12/site-packages (from httpx<0.28.0,>=0.27.0->ollama==0.3.3->-r requirements.txt (line 1)) (3.10)\n",
      "Requirement already satisfied: sniffio in /Users/jyje/.pyenv/versions/3.12.7/envs/pilot-ollama/lib/python3.12/site-packages (from httpx<0.28.0,>=0.27.0->ollama==0.3.3->-r requirements.txt (line 1)) (1.3.1)\n",
      "Requirement already satisfied: h11<0.15,>=0.13 in /Users/jyje/.pyenv/versions/3.12.7/envs/pilot-ollama/lib/python3.12/site-packages (from httpcore==1.*->httpx<0.28.0,>=0.27.0->ollama==0.3.3->-r requirements.txt (line 1)) (0.14.0)\n"
     ]
    }
   ],
   "source": [
    "!pip install -qq --upgrade pip\n",
    "!pip install --upgrade -r requirements.txt"
   ]
  },
  {
   "cell_type": "code",
   "execution_count": 2,
   "metadata": {},
   "outputs": [],
   "source": [
    "import sys, ollama\n",
    "assert (sys.version_info.major, sys.version_info.minor) == (3, 12)"
   ]
  },
  {
   "cell_type": "markdown",
   "metadata": {},
   "source": [
    "# 단답형 응답"
   ]
  },
  {
   "cell_type": "code",
   "execution_count": 3,
   "metadata": {},
   "outputs": [
    {
     "name": "stdout",
     "output_type": "stream",
     "text": [
      "저는 챗봇이기 때문에 인생의 의미에 대한 명확한 답을 드릴 수 없습니다. 인생의 의미는 개인마다 다르고, 철학적 고찰과 경험을 통해 발견되는 주관적인 질문입니다. 하지만 여러 사람들의 생각과 관점을 바탕으로 몇 가지 아이디어를 제시해 드릴 수 있습니다.\n",
      "\n",
      "* **성장과 학습**: 인생은 계속해서 배우고 성장하며 세상을 이해하는 여정이라고 할 수 있습니다. 새로운 경험, 관계, 지식을 통해 스스로를 발전시키고 더 풍요롭게 살아갈 수 있다는 의미를 가질 수 있습니다.\n",
      "* **관계와 연결**: 인간은 사회적 동물이며, 다른 사람들과의 관계에서 의미와 행복을 찾는 경향이 있습니다. 사랑하는 사람들과의 유대감, 우정, 공동체에 대한 소속감 등이 우리에게 삶의 목적과 가치를 부여할 수 있습니다.\n",
      "* **창조와 기여**: 세상에 새로운 것을 만들고, 다른 사람들에게 도움을 주는 활동은 인생에 의미를 더하는 요소가 될 수 있습니다. 예술, 과학, 기술 등 다양한 분야에서 자신의 능력을 발휘하고 사회에 기여함으로써 삶의 목적과 가치를 찾을 수 있습니다.\n",
      "* **즐거움과 행복 추구**: 인생은 단순히 고통과 어려움만으로 이루어지는 것이 아니라, 즐거움과 행복을 경험하는 것도 중요합니다. 우리가 좋아하는 활동, 취미, 여행 등을 통해 삶의 의미와 가치를 느낄 수 있습니다.\n",
      "\n",
      "결국 인생의 의미는 각자 스스로 찾아나가야 할 질문입니다. 다양한 관점과 경험을 통해 자신에게 맞는 답을 찾고, 그에 따라 행복하고 의미 있는 삶을 살아갈 수 있기를 바랍니다.\n"
     ]
    }
   ],
   "source": [
    "ollama.pull('gemma2')\n",
    "response = ollama.chat(\n",
    "    model = 'gemma2',\n",
    "    messages = [\n",
    "      {\n",
    "        'role': 'user',\n",
    "        'content': '인생이란 무엇일까요?',\n",
    "      }\n",
    "    ],\n",
    "    stream = False,\n",
    ")\n",
    "\n",
    "print(response['message']['content'])"
   ]
  },
  {
   "cell_type": "markdown",
   "metadata": {},
   "source": [
    "# 스트리밍 응답"
   ]
  },
  {
   "cell_type": "code",
   "execution_count": 4,
   "metadata": {},
   "outputs": [
    {
     "name": "stdout",
     "output_type": "stream",
     "text": [
      "나는 대규모 언어 모델로서 인생의 의미를 알아낼 수는 없지만, 사람들이 겪는 다양한 경험과 그들의 이야기를 통해 이해하려고 노력합니다.\n",
      "\n",
      "**인생에 대한 답은 개인마다 다르며**, 한 가지 정답이 존재하지 않습니다. 어떤 사람들은 **행복과 성취**를 추구하며, 또 다른 사람들은 **지식을 탐구하고 세상에 기여하는 것**을 중요하게 생각합니다.\n",
      "\n",
      "몇 가지 일반적인 관점으로 살펴보면:\n",
      "\n",
      "* **일련의 경험:** 인생은 태어나고 자라며 사랑하고, 슬픔과 아픔을 겪고 배우며 죽는 일련의 경험입니다.\n",
      "* **자기 성장과 발전:** 새로운 것들을 배우고 자신을 이해하며 성장하는 과정이라고 할 수 있습니다.\n",
      "* **인간관계:** 다른 사람들과 연결되고 소통하며 관계를 맺으면서 의미를 찾는 것입니다.\n",
      "* **의미와 목적:** 세상에 기여하고, 남에게 도움을 주거나 자신의 열정을 추구하는 것으로 인생에 의미를 부여합니다.\n",
      "\n",
      "궁극적으로 인생은 각자의 선택과 행동에 따라 만들어갑니다. 어떤 삶을 살고 싶은지, 무엇을 중요하게 생각하는지 스스로에게 질문하고 답해보세요. 그 과정에서 자신만의 의미를 찾아갈 수 있을 것입니다."
     ]
    }
   ],
   "source": [
    "ollama.pull('gemma2')\n",
    "stream = ollama.chat(\n",
    "    model = 'gemma2',\n",
    "    messages = [\n",
    "      {\n",
    "        'role': 'user',\n",
    "        'content': '인생이란 무엇일까요?',\n",
    "      }\n",
    "    ],\n",
    "    stream = True,\n",
    ")\n",
    "\n",
    "for chunk in stream:\n",
    "    print(chunk['message']['content'], end='', flush=True)"
   ]
  },
  {
   "cell_type": "markdown",
   "metadata": {},
   "source": [
    "# 이미지 응답\n",
    "\n",
    "Photo by Tolga Ahmetler on Unsplash, https://unsplash.com/photos/a-black-and-white-cat-sitting-in-the-grass-d6lbhI_ekBk"
   ]
  },
  {
   "cell_type": "code",
   "execution_count": 5,
   "metadata": {},
   "outputs": [
    {
     "name": "stdout",
     "output_type": "stream",
     "text": [
      "사진 속 동물은 고양이라는 것이 분명합니다. 고양이는 식육목에 속하는 포유류의 일종으로, 몸길이는 23~30cm, 무게는 3~6kg입니다. 고양이의 등에는 짧고 격자 모양의 털이 많으며, 발가락은 매우 길어 휠체어가 가능합니다.\n",
      "\n",
      "사진 속 고양이는 주로 야생에서 살고 있는 것으로 보입니다. 사진 속 고양이가 자주 나타나는 환경을 보면 주변에 많은 낙엽이 있고, 나무와 그늘 아래로 이동하고 있기 때문에 야생 고양이라는 것을 짐작할 수 있습니다.\n",
      "\n",
      "사진 속 고양이는 검은색과 흰색의 얼룩무늬를 띄고 있습니다. 이러한 색상은 주변에 많은 낙엽이 떨어진 환경에서 자연스러운 것이며, 사진 속 고양이의 털 또한 길고 거칠게 보입니다. 이것도 야생 고양이가 아닌 것을 알 수 있는 기준점 중 하나입니다.\n",
      "\n",
      "사진 속 고양이는 매우 청순하고 아름다운 모습을 드러내고 있습니다. 고양이라는 종은 모든 사람들의 마음속에 반드시 남기는 자리를 차지하는 동물로 알려져 있으며, 인간의 삶에도 많은 도움을 주는 동물이기도 합니다."
     ]
    }
   ],
   "source": [
    "ollama.pull('llama3.2-vision')\n",
    "stream = ollama.chat(\n",
    "    model='llama3.2-vision',\n",
    "    messages=[\n",
    "      {\n",
    "        'role': 'user',\n",
    "        'content': '이 사진에 나온 동물 대해서 설명해주세요. 답변은 한국어로 해주세요.',\n",
    "        'images': ['../assets/tolga-ahmetler-d6lbhI_ekBk-unsplash.jpg'], # 다른 이미지로 교체해 주세요\n",
    "      }\n",
    "    ],\n",
    "    stream=True,\n",
    ")\n",
    "\n",
    "for chunk in stream:\n",
    "    print(chunk['message']['content'], end='', flush=True)"
   ]
  }
 ],
 "metadata": {
  "kernelspec": {
   "display_name": "pilot-ollama",
   "language": "python",
   "name": "python3"
  },
  "language_info": {
   "codemirror_mode": {
    "name": "ipython",
    "version": 3
   },
   "file_extension": ".py",
   "mimetype": "text/x-python",
   "name": "python",
   "nbconvert_exporter": "python",
   "pygments_lexer": "ipython3",
   "version": "3.12.7"
  }
 },
 "nbformat": 4,
 "nbformat_minor": 2
}
