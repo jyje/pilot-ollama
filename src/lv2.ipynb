{
 "cells": [
  {
   "cell_type": "code",
   "execution_count": 4,
   "metadata": {
    "vscode": {
     "languageId": "shellscript"
    }
   },
   "outputs": [
    {
     "name": "stdout",
     "output_type": "stream",
     "text": [
      "\u001b[1A\u001b[1B\u001b[0G\u001b[?25l[+] Pulling 0/0\n",
      " \u001b[33m⠋\u001b[0m ollama Pulling                                                          \u001b[34m0.1s \u001b[0m\n",
      "\u001b[?25h\u001b[1A\u001b[1A\u001b[0G\u001b[?25l[+] Pulling 0/1\n",
      " \u001b[33m⠙\u001b[0m ollama Pulling                                                          \u001b[34m0.2s \u001b[0m\n",
      "\u001b[?25h\u001b[1A\u001b[1A\u001b[0G\u001b[?25l[+] Pulling 0/1\n",
      " \u001b[33m⠹\u001b[0m ollama Pulling                                                          \u001b[34m0.3s \u001b[0m\n",
      "\u001b[?25h\u001b[1A\u001b[1A\u001b[0G\u001b[?25l[+] Pulling 0/1\n",
      " \u001b[33m⠸\u001b[0m ollama Pulling                                                          \u001b[34m0.4s \u001b[0m\n",
      "\u001b[?25h\u001b[1A\u001b[1A\u001b[0G\u001b[?25l[+] Pulling 0/1\n",
      " \u001b[33m⠼\u001b[0m ollama Pulling                                                          \u001b[34m0.5s \u001b[0m\n",
      "\u001b[?25h\u001b[1A\u001b[1A\u001b[0G\u001b[?25l[+] Pulling 0/1\n",
      " \u001b[33m⠴\u001b[0m ollama Pulling                                                          \u001b[34m0.6s \u001b[0m\n",
      "\u001b[?25h\u001b[1A\u001b[1A\u001b[0G\u001b[?25l[+] Pulling 0/1\n",
      " \u001b[33m⠦\u001b[0m ollama Pulling                                                          \u001b[34m0.7s \u001b[0m\n",
      "\u001b[?25h\u001b[1A\u001b[1A\u001b[0G\u001b[?25l[+] Pulling 0/1\n",
      " \u001b[33m⠧\u001b[0m ollama Pulling                                                          \u001b[34m0.8s \u001b[0m\n",
      "\u001b[?25h\u001b[1A\u001b[1A\u001b[0G\u001b[?25l[+] Pulling 0/1\n",
      " \u001b[33m⠇\u001b[0m ollama Pulling                                                          \u001b[34m0.9s \u001b[0m\n",
      "\u001b[?25h\u001b[1A\u001b[1A\u001b[0G\u001b[?25l[+] Pulling 0/1\n",
      " \u001b[33m⠏\u001b[0m ollama Pulling                                                          \u001b[34m1.0s \u001b[0m\n",
      "\u001b[?25h\u001b[1A\u001b[1A\u001b[0G\u001b[?25l[+] Pulling 0/1\n",
      " \u001b[33m⠋\u001b[0m ollama Pulling                                                          \u001b[34m1.1s \u001b[0m\n",
      "\u001b[?25h\u001b[1A\u001b[1A\u001b[0G\u001b[?25l[+] Pulling 0/1\n",
      " \u001b[33m⠙\u001b[0m ollama Pulling                                                          \u001b[34m1.2s \u001b[0m\n",
      "\u001b[?25h\u001b[1A\u001b[1A\u001b[0G\u001b[?25l[+] Pulling 0/1\n",
      " \u001b[33m⠹\u001b[0m ollama Pulling                                                          \u001b[34m1.3s \u001b[0m\n",
      "\u001b[?25h\u001b[1A\u001b[1A\u001b[0G\u001b[?25l[+] Pulling 0/1\n",
      " \u001b[33m⠸\u001b[0m ollama Pulling                                                          \u001b[34m1.4s \u001b[0m\n",
      "\u001b[?25h\u001b[1A\u001b[1A\u001b[0G\u001b[?25l[+] Pulling 0/1\n",
      " \u001b[33m⠼\u001b[0m ollama Pulling                                                          \u001b[34m1.5s \u001b[0m\n",
      "\u001b[?25h\u001b[1A\u001b[1A\u001b[0G\u001b[?25l[+] Pulling 0/1\n",
      " \u001b[33m⠴\u001b[0m ollama Pulling                                                          \u001b[34m1.6s \u001b[0m\n",
      "\u001b[?25h\u001b[1A\u001b[1A\u001b[0G\u001b[?25l[+] Pulling 0/1\n",
      " \u001b[33m⠦\u001b[0m ollama Pulling                                                          \u001b[34m1.7s \u001b[0m\n",
      "\u001b[?25h\u001b[1A\u001b[1A\u001b[0G\u001b[?25l[+] Pulling 0/1\n",
      " \u001b[33m⠧\u001b[0m ollama Pulling                                                          \u001b[34m1.8s \u001b[0m\n",
      "\u001b[?25h\u001b[1A\u001b[1A\u001b[0G\u001b[?25l[+] Pulling 0/1\n",
      " \u001b[33m⠇\u001b[0m ollama Pulling                                                          \u001b[34m1.9s \u001b[0m\n",
      "\u001b[?25h\u001b[1A\u001b[1A\u001b[0G\u001b[?25l[+] Pulling 0/1\n",
      " \u001b[33m⠏\u001b[0m ollama Pulling                                                          \u001b[34m2.0s \u001b[0m\n",
      "\u001b[?25h\u001b[1A\u001b[1A\u001b[0G\u001b[?25l[+] Pulling 0/1\n",
      " \u001b[33m⠋\u001b[0m ollama Pulling                                                          \u001b[34m2.1s \u001b[0m\n",
      "\u001b[?25h\u001b[1A\u001b[1A\u001b[0G\u001b[?25l[+] Pulling 0/1\n",
      " \u001b[33m⠙\u001b[0m ollama Pulling                                                          \u001b[34m2.2s \u001b[0m\n",
      "\u001b[?25h\u001b[1A\u001b[1A\u001b[0G\u001b[?25l[+] Pulling 0/1\n",
      " \u001b[33m⠹\u001b[0m ollama Pulling                                                          \u001b[34m2.3s \u001b[0m\n",
      "\u001b[?25h\u001b[1A\u001b[1A\u001b[0G\u001b[?25l\u001b[34m[+] Pulling 1/1\u001b[0m\n",
      " \u001b[32m✔\u001b[0m ollama Pulled \u001b[32m\u001b[0m                                                          \u001b[34m2.3s \u001b[0m\n",
      "\u001b[?25h\u001b[1A\u001b[1B\u001b[0G\u001b[?25l[+] Running 2/0\n",
      " \u001b[32m✔\u001b[0m Network pilot-ollama_default       \u001b[32mCr...\u001b[0m                                \u001b[34m0.0s \u001b[0m\n",
      " \u001b[32m✔\u001b[0m Volume \"pilot-ollama_ollama-data\"  \u001b[32mCreated\u001b[0m                              \u001b[34m0.0s \u001b[0m\n",
      " \u001b[33m⠋\u001b[0m Container pilot-ollama-ollama-1    Creating                             \u001b[34m0.0s \u001b[0m\n",
      "\u001b[?25h\u001b[1A\u001b[1A\u001b[1A\u001b[1A\u001b[0G\u001b[?25l[+] Running 2/3\n",
      " \u001b[32m✔\u001b[0m Network pilot-ollama_default       \u001b[32mCr...\u001b[0m                                \u001b[34m0.0s \u001b[0m\n",
      " \u001b[32m✔\u001b[0m Volume \"pilot-ollama_ollama-data\"  \u001b[32mCreated\u001b[0m                              \u001b[34m0.0s \u001b[0m\n",
      " \u001b[33m⠙\u001b[0m Container pilot-ollama-ollama-1    Starting                             \u001b[34m0.1s \u001b[0m\n",
      "\u001b[?25h\u001b[1A\u001b[1A\u001b[1A\u001b[1A\u001b[0G\u001b[?25l[+] Running 2/3\n",
      " \u001b[32m✔\u001b[0m Network pilot-ollama_default       \u001b[32mCr...\u001b[0m                                \u001b[34m0.0s \u001b[0m\n",
      " \u001b[32m✔\u001b[0m Volume \"pilot-ollama_ollama-data\"  \u001b[32mCreated\u001b[0m                              \u001b[34m0.0s \u001b[0m\n",
      " \u001b[33m⠹\u001b[0m Container pilot-ollama-ollama-1    Starting                             \u001b[34m0.2s \u001b[0m\n",
      "\u001b[?25h\u001b[1A\u001b[1A\u001b[1A\u001b[1A\u001b[0G\u001b[?25l[+] Running 2/3\n",
      " \u001b[32m✔\u001b[0m Network pilot-ollama_default       \u001b[32mCr...\u001b[0m                                \u001b[34m0.0s \u001b[0m\n",
      " \u001b[32m✔\u001b[0m Volume \"pilot-ollama_ollama-data\"  \u001b[32mCreated\u001b[0m                              \u001b[34m0.0s \u001b[0m\n",
      " \u001b[33m⠸\u001b[0m Container pilot-ollama-ollama-1    Starting                             \u001b[34m0.3s \u001b[0m\n",
      "\u001b[?25h\u001b[1A\u001b[1A\u001b[1A\u001b[1A\u001b[0G\u001b[?25l[+] Running 2/3\n",
      " \u001b[32m✔\u001b[0m Network pilot-ollama_default       \u001b[32mCr...\u001b[0m                                \u001b[34m0.0s \u001b[0m\n",
      " \u001b[32m✔\u001b[0m Volume \"pilot-ollama_ollama-data\"  \u001b[32mCreated\u001b[0m                              \u001b[34m0.0s \u001b[0m\n",
      " \u001b[33m⠼\u001b[0m Container pilot-ollama-ollama-1    Starting                             \u001b[34m0.4s \u001b[0m\n",
      "\u001b[?25h\u001b[1A\u001b[1A\u001b[1A\u001b[1A\u001b[0G\u001b[?25l[+] Running 2/3\n",
      " \u001b[32m✔\u001b[0m Network pilot-ollama_default       \u001b[32mCr...\u001b[0m                                \u001b[34m0.0s \u001b[0m\n",
      " \u001b[32m✔\u001b[0m Volume \"pilot-ollama_ollama-data\"  \u001b[32mCreated\u001b[0m                              \u001b[34m0.0s \u001b[0m\n",
      " \u001b[33m⠴\u001b[0m Container pilot-ollama-ollama-1    Starting                             \u001b[34m0.5s \u001b[0m\n",
      "\u001b[?25h\u001b[1A\u001b[1A\u001b[1A\u001b[1A\u001b[0G\u001b[?25l[+] Running 2/3\n",
      " \u001b[32m✔\u001b[0m Network pilot-ollama_default       \u001b[32mCr...\u001b[0m                                \u001b[34m0.0s \u001b[0m\n",
      " \u001b[32m✔\u001b[0m Volume \"pilot-ollama_ollama-data\"  \u001b[32mCreated\u001b[0m                              \u001b[34m0.0s \u001b[0m\n",
      " \u001b[33m⠦\u001b[0m Container pilot-ollama-ollama-1    Starting                             \u001b[34m0.6s \u001b[0m\n",
      "\u001b[?25h\u001b[1A\u001b[1A\u001b[1A\u001b[1A\u001b[0G\u001b[?25l\u001b[34m[+] Running 3/3\u001b[0m\n",
      " \u001b[32m✔\u001b[0m Network pilot-ollama_default       \u001b[32mCr...\u001b[0m                                \u001b[34m0.0s \u001b[0m\n",
      " \u001b[32m✔\u001b[0m Volume \"pilot-ollama_ollama-data\"  \u001b[32mCreated\u001b[0m                              \u001b[34m0.0s \u001b[0m\n",
      " \u001b[32m✔\u001b[0m Container pilot-ollama-ollama-1    \u001b[32mStarted\u001b[0m                              \u001b[34m0.7s \u001b[0m\n",
      "\u001b[?25hRequirement already satisfied: ollama==0.3.3 in /Users/jyje/.pyenv/versions/3.12.7/envs/pilot-ollama/lib/python3.12/site-packages (from -r requirements.txt (line 1)) (0.3.3)\n",
      "Requirement already satisfied: httpx<0.28.0,>=0.27.0 in /Users/jyje/.pyenv/versions/3.12.7/envs/pilot-ollama/lib/python3.12/site-packages (from ollama==0.3.3->-r requirements.txt (line 1)) (0.27.2)\n",
      "Requirement already satisfied: anyio in /Users/jyje/.pyenv/versions/3.12.7/envs/pilot-ollama/lib/python3.12/site-packages (from httpx<0.28.0,>=0.27.0->ollama==0.3.3->-r requirements.txt (line 1)) (4.6.2.post1)\n",
      "Requirement already satisfied: certifi in /Users/jyje/.pyenv/versions/3.12.7/envs/pilot-ollama/lib/python3.12/site-packages (from httpx<0.28.0,>=0.27.0->ollama==0.3.3->-r requirements.txt (line 1)) (2024.8.30)\n",
      "Requirement already satisfied: httpcore==1.* in /Users/jyje/.pyenv/versions/3.12.7/envs/pilot-ollama/lib/python3.12/site-packages (from httpx<0.28.0,>=0.27.0->ollama==0.3.3->-r requirements.txt (line 1)) (1.0.7)\n",
      "Requirement already satisfied: idna in /Users/jyje/.pyenv/versions/3.12.7/envs/pilot-ollama/lib/python3.12/site-packages (from httpx<0.28.0,>=0.27.0->ollama==0.3.3->-r requirements.txt (line 1)) (3.10)\n",
      "Requirement already satisfied: sniffio in /Users/jyje/.pyenv/versions/3.12.7/envs/pilot-ollama/lib/python3.12/site-packages (from httpx<0.28.0,>=0.27.0->ollama==0.3.3->-r requirements.txt (line 1)) (1.3.1)\n",
      "Requirement already satisfied: h11<0.15,>=0.13 in /Users/jyje/.pyenv/versions/3.12.7/envs/pilot-ollama/lib/python3.12/site-packages (from httpcore==1.*->httpx<0.28.0,>=0.27.0->ollama==0.3.3->-r requirements.txt (line 1)) (0.14.0)\n"
     ]
    }
   ],
   "source": [
    "!docker compose -f lv2-docker-compose.yaml pull\n",
    "!docker compose -f lv2-docker-compose.yaml -p pilot-ollama up -d\n",
    "!pip install -qq --upgrade pip\n",
    "!pip install --upgrade -r requirements.txt"
   ]
  },
  {
   "cell_type": "code",
   "execution_count": 7,
   "metadata": {},
   "outputs": [
    {
     "data": {
      "text/plain": [
       "{'models': [{'name': 'gemma2:latest',\n",
       "   'model': 'gemma2:latest',\n",
       "   'modified_at': '2024-11-17T13:05:32.345159013Z',\n",
       "   'size': 5443152417,\n",
       "   'digest': 'ff02c3702f322b9e075e9568332d96c0a7028002f1a5a056e0a6784320a4db0b',\n",
       "   'details': {'parent_model': '',\n",
       "    'format': 'gguf',\n",
       "    'family': 'gemma2',\n",
       "    'families': ['gemma2'],\n",
       "    'parameter_size': '9.2B',\n",
       "    'quantization_level': 'Q4_0'}}]}"
      ]
     },
     "execution_count": 7,
     "metadata": {},
     "output_type": "execute_result"
    }
   ],
   "source": [
    "import sys, ollama\n",
    "assert (sys.version_info.major, sys.version_info.minor) == (3, 12)\n",
    "\n",
    "client = ollama.Client(host='http://localhost:11434')\n",
    "client.list()"
   ]
  },
  {
   "cell_type": "markdown",
   "metadata": {},
   "source": [
    "# 단답형 응답"
   ]
  },
  {
   "cell_type": "code",
   "execution_count": null,
   "metadata": {},
   "outputs": [
    {
     "name": "stdout",
     "output_type": "stream",
     "text": [
      " 인생은 매우 복잡하고 깊은 질문입니다. 모든 사람에게 의미가 다를 수 있기 때문에 하나의 정답을 제시하기는 어렵습니다. 하지만 저는 다음과 같은 관점에서 인생에 대해 생각해 볼 수 있다고 생각합니다.\n",
      "\n",
      "* **성장과 발전**: 인생은 끊임없이 배우고 성장하며 변화하는 과정입니다. 새로운 경험을 통해 지식을 쌓고, 기술을 향상시키고, 개인으로서 성장합니다.\n",
      "* **관계 형성**: 다른 사람들과의 관계는 인생에서 매우 중요한 부분입니다. 가족, 친구, 연인 등 우리 주변 사람들과의 소통과 연결은 우리를 풍요롭게 만들어줍니다.\n",
      "* **목표 달성**: 우리 각자에게 목표가 있으며, 이러한 목표를 달성하기 위해 노력하는 것은 인생에 의미와 방향을 줍니다. 목표를 향해 나아가는 과정은 스스로를 성찰하고 발전시키는 데 도움이 됩니다.\n",
      "* **즐거움과 슬픔**: 인생에는 다양한 감정들이 존재합니다. 즐거움, 행복, 사랑처럼 긍정적인 감정뿐만 아니라 슬픔, 고통, 아픔 같은 부정적인 감정도 함께 경험합니다. 이러한 모든 감정들을 통해 우리는 세상을 이해하고 성장합니다.\n",
      "* **나눔과 기여**: 다른 사람들에게 도움을 주고 사회에 기여하는 것은 인생의 의미를 높여줍니다. 소중한 시간과 노력을 투자함으로써 세상을 더 나은 곳으로 만들 수 있습니다.\n",
      "\n",
      "\n",
      "인생의 의미는 개인마다 다르게 해석될 수 있습니다. 중요한 것은 우리 스스로가 삶에 대해 생각하고, 자신만의 가치관과 목표를 설정하며 살아나가는 것입니다.\n"
     ]
    }
   ],
   "source": [
    "client.pull('gemma2')\n",
    "response = client.chat(\n",
    "    model = 'gemma2',\n",
    "    messages = [\n",
    "      {\n",
    "        'role': 'user',\n",
    "        'content': '인생이란 무엇일까요?',\n",
    "      }\n",
    "    ],\n",
    "    stream = False,\n",
    ")\n",
    "\n",
    "print(response['message']['content'])"
   ]
  },
  {
   "cell_type": "markdown",
   "metadata": {},
   "source": [
    "# 스트리밍 응답"
   ]
  },
  {
   "cell_type": "code",
   "execution_count": 9,
   "metadata": {},
   "outputs": [
    {
     "name": "stdout",
     "output_type": "stream",
     "text": [
      "나는 대 language 모델로서 인생의 의미를 알 수는 없습니다. 그것은 인간이 스스로 고민하고 찾아가는 질문입니다. 하지만, 다양한 관점에서 인생에 대해 생각해볼 수 있는 몇 가지 아이디어를 드릴 수 있습니다.\n",
      "\n",
      "* **경험:** 일부 사람들은 인생이 단순히 경험하는 것에 대한 것입니다. 새로운 것들을 배우고, 다양한 사람들을 만나고, 세상을 탐험하고, 감정의 풍요로움을 느끼는 것을 의미한다고 생각합니다.\n",
      "* **성장:** 다른 사람들은 인생이 성장과 발전에 초점을 맞춘다고 생각합니다. 새로운 지식과 기술을 익히고, 자신을 개선하고, 도전을 이겨내며, 더 나은 사람으로 성장하는 것을 의미한다고 합니다.\n",
      "* **관계:** 또 다른 관점에서는 인생이 타인과의 관계에 의해 풍요롭게 되는 것이라고 말합니다. 가족, 친구, 연인과의 사랑, 배려, 소통을 통해 삶이 더욱 의미 있게 느껴진다고 생각하는 사람들이 많습니다.\n",
      "* **기여:** 일부는 인생의 목적이 타인에게 기여하고 세상에 긍정적인 영향을 미치는 데 있다고 생각합니다. 봉사, 창작 활동, 선행 등을 통해 다른 사람들에게 도움을 주고 사회 발전에 기여하는 것을 의미한다고 합니다.\n",
      "\n",
      "어떤 관점이든 나에게 정답은 없으며, 개인의 경험과 가치관에 따라 다르게 해석될 수 있습니다. 가장 중요한 것은 자신만의 삶을 살아가며 스스로 \"인생이란 무엇인가?\" 라는 질문에 답해나가는 여정을 즐기는 것입니다."
     ]
    }
   ],
   "source": [
    "client.pull('gemma2')\n",
    "stream = client.chat(\n",
    "    model = 'gemma2',\n",
    "    messages = [\n",
    "      {\n",
    "        'role': 'user',\n",
    "        'content': '인생이란 무엇일까요?',\n",
    "      }\n",
    "    ],\n",
    "    stream = True,\n",
    ")\n",
    "\n",
    "for chunk in stream:\n",
    "    print(chunk['message']['content'], end='', flush=True)"
   ]
  },
  {
   "cell_type": "markdown",
   "metadata": {},
   "source": [
    "# 이미지 응답\n",
    "\n",
    "Photo by Tolga Ahmetler on Unsplash, https://unsplash.com/photos/a-black-and-white-cat-sitting-in-the-grass-d6lbhI_ekBk"
   ]
  },
  {
   "cell_type": "code",
   "execution_count": null,
   "metadata": {},
   "outputs": [],
   "source": [
    "import base64\n",
    "client.pull('llama3.2-vision')\n",
    "\n",
    "image_path = '../assets/tolga-ahmetler-d6lbhI_ekBk-unsplash.jpg'\n",
    "with open(image_path, 'rb') as image_file:\n",
    "    encoded_string = base64.b64encode(image_file.read()).decode('utf-8')\n",
    "\n",
    "stream = client.chat(\n",
    "    model='llama3.2-vision',\n",
    "    messages=[\n",
    "      {\n",
    "        'role': 'user',\n",
    "        'content': '이 사진에 나온 동물 대해서 설명해주세요. 답변은 한국어로 해주세요.',\n",
    "        'images': [ encoded_string ], # 이미지 인코딩 문자열\n",
    "      }\n",
    "    ],\n",
    "    stream=True,\n",
    ")\n",
    "\n",
    "for chunk in stream:\n",
    "    print(chunk['message']['content'], end='', flush=True)"
   ]
  }
 ],
 "metadata": {
  "kernelspec": {
   "display_name": "pilot-ollama",
   "language": "python",
   "name": "python3"
  },
  "language_info": {
   "codemirror_mode": {
    "name": "ipython",
    "version": 3
   },
   "file_extension": ".py",
   "mimetype": "text/x-python",
   "name": "python",
   "nbconvert_exporter": "python",
   "pygments_lexer": "ipython3",
   "version": "3.12.7"
  }
 },
 "nbformat": 4,
 "nbformat_minor": 2
}
