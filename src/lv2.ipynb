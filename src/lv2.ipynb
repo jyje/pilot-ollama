{
 "cells": [
  {
   "cell_type": "code",
   "execution_count": 4,
   "metadata": {
    "vscode": {
     "languageId": "shellscript"
    }
   },
   "outputs": [
    {
     "name": "stdout",
     "output_type": "stream",
     "text": [
      "\u001b[1A\u001b[1B\u001b[0G\u001b[?25l[+] Pulling 0/0\n",
      " \u001b[33m⠋\u001b[0m ollama Pulling                                                          \u001b[34m0.1s \u001b[0m\n",
      "\u001b[?25h\u001b[1A\u001b[1A\u001b[0G\u001b[?25l[+] Pulling 0/1\n",
      " \u001b[33m⠙\u001b[0m ollama Pulling                                                          \u001b[34m0.2s \u001b[0m\n",
      "\u001b[?25h\u001b[1A\u001b[1A\u001b[0G\u001b[?25l[+] Pulling 0/1\n",
      " \u001b[33m⠹\u001b[0m ollama Pulling                                                          \u001b[34m0.3s \u001b[0m\n",
      "\u001b[?25h\u001b[1A\u001b[1A\u001b[0G\u001b[?25l[+] Pulling 0/1\n",
      " \u001b[33m⠸\u001b[0m ollama Pulling                                                          \u001b[34m0.4s \u001b[0m\n",
      "\u001b[?25h\u001b[1A\u001b[1A\u001b[0G\u001b[?25l[+] Pulling 0/1\n",
      " \u001b[33m⠼\u001b[0m ollama Pulling                                                          \u001b[34m0.5s \u001b[0m\n",
      "\u001b[?25h\u001b[1A\u001b[1A\u001b[0G\u001b[?25l[+] Pulling 0/1\n",
      " \u001b[33m⠴\u001b[0m ollama Pulling                                                          \u001b[34m0.6s \u001b[0m\n",
      "\u001b[?25h\u001b[1A\u001b[1A\u001b[0G\u001b[?25l[+] Pulling 0/1\n",
      " \u001b[33m⠦\u001b[0m ollama Pulling                                                          \u001b[34m0.7s \u001b[0m\n",
      "\u001b[?25h\u001b[1A\u001b[1A\u001b[0G\u001b[?25l[+] Pulling 0/1\n",
      " \u001b[33m⠧\u001b[0m ollama Pulling                                                          \u001b[34m0.8s \u001b[0m\n",
      "\u001b[?25h\u001b[1A\u001b[1A\u001b[0G\u001b[?25l[+] Pulling 0/1\n",
      " \u001b[33m⠇\u001b[0m ollama Pulling                                                          \u001b[34m0.9s \u001b[0m\n",
      "\u001b[?25h\u001b[1A\u001b[1A\u001b[0G\u001b[?25l[+] Pulling 0/1\n",
      " \u001b[33m⠏\u001b[0m ollama Pulling                                                          \u001b[34m1.0s \u001b[0m\n",
      "\u001b[?25h\u001b[1A\u001b[1A\u001b[0G\u001b[?25l[+] Pulling 0/1\n",
      " \u001b[33m⠋\u001b[0m ollama Pulling                                                          \u001b[34m1.1s \u001b[0m\n",
      "\u001b[?25h\u001b[1A\u001b[1A\u001b[0G\u001b[?25l[+] Pulling 0/1\n",
      " \u001b[33m⠙\u001b[0m ollama Pulling                                                          \u001b[34m1.2s \u001b[0m\n",
      "\u001b[?25h\u001b[1A\u001b[1A\u001b[0G\u001b[?25l[+] Pulling 0/1\n",
      " \u001b[33m⠹\u001b[0m ollama Pulling                                                          \u001b[34m1.3s \u001b[0m\n",
      "\u001b[?25h\u001b[1A\u001b[1A\u001b[0G\u001b[?25l[+] Pulling 0/1\n",
      " \u001b[33m⠸\u001b[0m ollama Pulling                                                          \u001b[34m1.4s \u001b[0m\n",
      "\u001b[?25h\u001b[1A\u001b[1A\u001b[0G\u001b[?25l[+] Pulling 0/1\n",
      " \u001b[33m⠼\u001b[0m ollama Pulling                                                          \u001b[34m1.5s \u001b[0m\n",
      "\u001b[?25h\u001b[1A\u001b[1A\u001b[0G\u001b[?25l[+] Pulling 0/1\n",
      " \u001b[33m⠴\u001b[0m ollama Pulling                                                          \u001b[34m1.6s \u001b[0m\n",
      "\u001b[?25h\u001b[1A\u001b[1A\u001b[0G\u001b[?25l[+] Pulling 0/1\n",
      " \u001b[33m⠦\u001b[0m ollama Pulling                                                          \u001b[34m1.7s \u001b[0m\n",
      "\u001b[?25h\u001b[1A\u001b[1A\u001b[0G\u001b[?25l[+] Pulling 0/1\n",
      " \u001b[33m⠧\u001b[0m ollama Pulling                                                          \u001b[34m1.8s \u001b[0m\n",
      "\u001b[?25h\u001b[1A\u001b[1A\u001b[0G\u001b[?25l[+] Pulling 0/1\n",
      " \u001b[33m⠇\u001b[0m ollama Pulling                                                          \u001b[34m1.9s \u001b[0m\n",
      "\u001b[?25h\u001b[1A\u001b[1A\u001b[0G\u001b[?25l[+] Pulling 0/1\n",
      " \u001b[33m⠏\u001b[0m ollama Pulling                                                          \u001b[34m2.0s \u001b[0m\n",
      "\u001b[?25h\u001b[1A\u001b[1A\u001b[0G\u001b[?25l[+] Pulling 0/1\n",
      " \u001b[33m⠋\u001b[0m ollama Pulling                                                          \u001b[34m2.1s \u001b[0m\n",
      "\u001b[?25h\u001b[1A\u001b[1A\u001b[0G\u001b[?25l[+] Pulling 0/1\n",
      " \u001b[33m⠙\u001b[0m ollama Pulling                                                          \u001b[34m2.2s \u001b[0m\n",
      "\u001b[?25h\u001b[1A\u001b[1A\u001b[0G\u001b[?25l[+] Pulling 0/1\n",
      " \u001b[33m⠹\u001b[0m ollama Pulling                                                          \u001b[34m2.3s \u001b[0m\n",
      "\u001b[?25h\u001b[1A\u001b[1A\u001b[0G\u001b[?25l\u001b[34m[+] Pulling 1/1\u001b[0m\n",
      " \u001b[32m✔\u001b[0m ollama Pulled \u001b[32m\u001b[0m                                                          \u001b[34m2.3s \u001b[0m\n",
      "\u001b[?25h\u001b[1A\u001b[1B\u001b[0G\u001b[?25l[+] Running 2/0\n",
      " \u001b[32m✔\u001b[0m Network pilot-ollama_default       \u001b[32mCr...\u001b[0m                                \u001b[34m0.0s \u001b[0m\n",
      " \u001b[32m✔\u001b[0m Volume \"pilot-ollama_ollama-data\"  \u001b[32mCreated\u001b[0m                              \u001b[34m0.0s \u001b[0m\n",
      " \u001b[33m⠋\u001b[0m Container pilot-ollama-ollama-1    Creating                             \u001b[34m0.0s \u001b[0m\n",
      "\u001b[?25h\u001b[1A\u001b[1A\u001b[1A\u001b[1A\u001b[0G\u001b[?25l[+] Running 2/3\n",
      " \u001b[32m✔\u001b[0m Network pilot-ollama_default       \u001b[32mCr...\u001b[0m                                \u001b[34m0.0s \u001b[0m\n",
      " \u001b[32m✔\u001b[0m Volume \"pilot-ollama_ollama-data\"  \u001b[32mCreated\u001b[0m                              \u001b[34m0.0s \u001b[0m\n",
      " \u001b[33m⠙\u001b[0m Container pilot-ollama-ollama-1    Starting                             \u001b[34m0.1s \u001b[0m\n",
      "\u001b[?25h\u001b[1A\u001b[1A\u001b[1A\u001b[1A\u001b[0G\u001b[?25l[+] Running 2/3\n",
      " \u001b[32m✔\u001b[0m Network pilot-ollama_default       \u001b[32mCr...\u001b[0m                                \u001b[34m0.0s \u001b[0m\n",
      " \u001b[32m✔\u001b[0m Volume \"pilot-ollama_ollama-data\"  \u001b[32mCreated\u001b[0m                              \u001b[34m0.0s \u001b[0m\n",
      " \u001b[33m⠹\u001b[0m Container pilot-ollama-ollama-1    Starting                             \u001b[34m0.2s \u001b[0m\n",
      "\u001b[?25h\u001b[1A\u001b[1A\u001b[1A\u001b[1A\u001b[0G\u001b[?25l[+] Running 2/3\n",
      " \u001b[32m✔\u001b[0m Network pilot-ollama_default       \u001b[32mCr...\u001b[0m                                \u001b[34m0.0s \u001b[0m\n",
      " \u001b[32m✔\u001b[0m Volume \"pilot-ollama_ollama-data\"  \u001b[32mCreated\u001b[0m                              \u001b[34m0.0s \u001b[0m\n",
      " \u001b[33m⠸\u001b[0m Container pilot-ollama-ollama-1    Starting                             \u001b[34m0.3s \u001b[0m\n",
      "\u001b[?25h\u001b[1A\u001b[1A\u001b[1A\u001b[1A\u001b[0G\u001b[?25l[+] Running 2/3\n",
      " \u001b[32m✔\u001b[0m Network pilot-ollama_default       \u001b[32mCr...\u001b[0m                                \u001b[34m0.0s \u001b[0m\n",
      " \u001b[32m✔\u001b[0m Volume \"pilot-ollama_ollama-data\"  \u001b[32mCreated\u001b[0m                              \u001b[34m0.0s \u001b[0m\n",
      " \u001b[33m⠼\u001b[0m Container pilot-ollama-ollama-1    Starting                             \u001b[34m0.4s \u001b[0m\n",
      "\u001b[?25h\u001b[1A\u001b[1A\u001b[1A\u001b[1A\u001b[0G\u001b[?25l[+] Running 2/3\n",
      " \u001b[32m✔\u001b[0m Network pilot-ollama_default       \u001b[32mCr...\u001b[0m                                \u001b[34m0.0s \u001b[0m\n",
      " \u001b[32m✔\u001b[0m Volume \"pilot-ollama_ollama-data\"  \u001b[32mCreated\u001b[0m                              \u001b[34m0.0s \u001b[0m\n",
      " \u001b[33m⠴\u001b[0m Container pilot-ollama-ollama-1    Starting                             \u001b[34m0.5s \u001b[0m\n",
      "\u001b[?25h\u001b[1A\u001b[1A\u001b[1A\u001b[1A\u001b[0G\u001b[?25l[+] Running 2/3\n",
      " \u001b[32m✔\u001b[0m Network pilot-ollama_default       \u001b[32mCr...\u001b[0m                                \u001b[34m0.0s \u001b[0m\n",
      " \u001b[32m✔\u001b[0m Volume \"pilot-ollama_ollama-data\"  \u001b[32mCreated\u001b[0m                              \u001b[34m0.0s \u001b[0m\n",
      " \u001b[33m⠦\u001b[0m Container pilot-ollama-ollama-1    Starting                             \u001b[34m0.6s \u001b[0m\n",
      "\u001b[?25h\u001b[1A\u001b[1A\u001b[1A\u001b[1A\u001b[0G\u001b[?25l\u001b[34m[+] Running 3/3\u001b[0m\n",
      " \u001b[32m✔\u001b[0m Network pilot-ollama_default       \u001b[32mCr...\u001b[0m                                \u001b[34m0.0s \u001b[0m\n",
      " \u001b[32m✔\u001b[0m Volume \"pilot-ollama_ollama-data\"  \u001b[32mCreated\u001b[0m                              \u001b[34m0.0s \u001b[0m\n",
      " \u001b[32m✔\u001b[0m Container pilot-ollama-ollama-1    \u001b[32mStarted\u001b[0m                              \u001b[34m0.7s \u001b[0m\n",
      "\u001b[?25hRequirement already satisfied: ollama==0.3.3 in /Users/jyje/.pyenv/versions/3.12.7/envs/pilot-ollama/lib/python3.12/site-packages (from -r requirements.txt (line 1)) (0.3.3)\n",
      "Requirement already satisfied: httpx<0.28.0,>=0.27.0 in /Users/jyje/.pyenv/versions/3.12.7/envs/pilot-ollama/lib/python3.12/site-packages (from ollama==0.3.3->-r requirements.txt (line 1)) (0.27.2)\n",
      "Requirement already satisfied: anyio in /Users/jyje/.pyenv/versions/3.12.7/envs/pilot-ollama/lib/python3.12/site-packages (from httpx<0.28.0,>=0.27.0->ollama==0.3.3->-r requirements.txt (line 1)) (4.6.2.post1)\n",
      "Requirement already satisfied: certifi in /Users/jyje/.pyenv/versions/3.12.7/envs/pilot-ollama/lib/python3.12/site-packages (from httpx<0.28.0,>=0.27.0->ollama==0.3.3->-r requirements.txt (line 1)) (2024.8.30)\n",
      "Requirement already satisfied: httpcore==1.* in /Users/jyje/.pyenv/versions/3.12.7/envs/pilot-ollama/lib/python3.12/site-packages (from httpx<0.28.0,>=0.27.0->ollama==0.3.3->-r requirements.txt (line 1)) (1.0.7)\n",
      "Requirement already satisfied: idna in /Users/jyje/.pyenv/versions/3.12.7/envs/pilot-ollama/lib/python3.12/site-packages (from httpx<0.28.0,>=0.27.0->ollama==0.3.3->-r requirements.txt (line 1)) (3.10)\n",
      "Requirement already satisfied: sniffio in /Users/jyje/.pyenv/versions/3.12.7/envs/pilot-ollama/lib/python3.12/site-packages (from httpx<0.28.0,>=0.27.0->ollama==0.3.3->-r requirements.txt (line 1)) (1.3.1)\n",
      "Requirement already satisfied: h11<0.15,>=0.13 in /Users/jyje/.pyenv/versions/3.12.7/envs/pilot-ollama/lib/python3.12/site-packages (from httpcore==1.*->httpx<0.28.0,>=0.27.0->ollama==0.3.3->-r requirements.txt (line 1)) (0.14.0)\n"
     ]
    }
   ],
   "source": [
    "!docker compose -f lv2-docker-compose.yaml pull\n",
    "!docker compose -f lv2-docker-compose.yaml -p pilot-ollama up -d\n",
    "!pip install -qq --upgrade pip\n",
    "!pip install --upgrade -r requirements.txt"
   ]
  },
  {
   "cell_type": "code",
   "execution_count": 7,
   "metadata": {},
   "outputs": [
    {
     "data": {
      "text/plain": [
       "{'models': [{'name': 'gemma2:latest',\n",
       "   'model': 'gemma2:latest',\n",
       "   'modified_at': '2024-11-17T13:05:32.345159013Z',\n",
       "   'size': 5443152417,\n",
       "   'digest': 'ff02c3702f322b9e075e9568332d96c0a7028002f1a5a056e0a6784320a4db0b',\n",
       "   'details': {'parent_model': '',\n",
       "    'format': 'gguf',\n",
       "    'family': 'gemma2',\n",
       "    'families': ['gemma2'],\n",
       "    'parameter_size': '9.2B',\n",
       "    'quantization_level': 'Q4_0'}}]}"
      ]
     },
     "execution_count": 7,
     "metadata": {},
     "output_type": "execute_result"
    }
   ],
   "source": [
    "import sys, ollama\n",
    "assert (sys.version_info.major, sys.version_info.minor) == (3, 12)\n",
    "\n",
    "client = ollama.Client(host='http://localhost:11434')\n",
    "client.list()"
   ]
  },
  {
   "cell_type": "markdown",
   "metadata": {},
   "source": [
    "# 단답형 응답"
   ]
  },
  {
   "cell_type": "code",
   "execution_count": null,
   "metadata": {},
   "outputs": [],
   "source": [
    "client.pull('gemma2')\n",
    "response = client.chat(\n",
    "    model = 'gemma2',\n",
    "    messages = [\n",
    "      {\n",
    "        'role': 'user',\n",
    "        'content': '인생이란 무엇일까요?',\n",
    "      }\n",
    "    ],\n",
    "    stream = False,\n",
    ")\n",
    "\n",
    "print(response['message']['content'])"
   ]
  },
  {
   "cell_type": "markdown",
   "metadata": {},
   "source": [
    "# 스트리밍 응답"
   ]
  },
  {
   "cell_type": "code",
   "execution_count": 9,
   "metadata": {},
   "outputs": [
    {
     "name": "stdout",
     "output_type": "stream",
     "text": [
      "나는 대 language 모델로서 인생"
     ]
    }
   ],
   "source": [
    "client.pull('gemma2')\n",
    "stream = client.chat(\n",
    "    model = 'gemma2',\n",
    "    messages = [\n",
    "      {\n",
    "        'role': 'user',\n",
    "        'content': '인생이란 무엇일까요?',\n",
    "      }\n",
    "    ],\n",
    "    stream = True,\n",
    ")\n",
    "\n",
    "for chunk in stream:\n",
    "    print(chunk['message']['content'], end='', flush=True)"
   ]
  },
  {
   "cell_type": "markdown",
   "metadata": {},
   "source": [
    "# 이미지 응답\n",
    "\n",
    "Photo by Tolga Ahmetler on Unsplash, https://unsplash.com/photos/a-black-and-white-cat-sitting-in-the-grass-d6lbhI_ekBk"
   ]
  },
  {
   "cell_type": "code",
   "execution_count": null,
   "metadata": {},
   "outputs": [],
   "source": [
    "import base64\n",
    "client.pull('llama3.2-vision')\n",
    "\n",
    "image_path = '../assets/tolga-ahmetler-d6lbhI_ekBk-unsplash.jpg'\n",
    "with open(image_path, 'rb') as image_file:\n",
    "    encoded_string = base64.b64encode(image_file.read()).decode('utf-8')\n",
    "\n",
    "stream = client.chat(\n",
    "    model='llama3.2-vision',\n",
    "    messages=[\n",
    "      {\n",
    "        'role': 'user',\n",
    "        'content': '이 사진에 나온 동물 대해서 설명해주세요. 답변은 한국어로 해주세요.',\n",
    "        'images': [ encoded_string ], # 이미지 인코딩 문자열\n",
    "      }\n",
    "    ],\n",
    "    stream=True,\n",
    ")\n",
    "\n",
    "for chunk in stream:\n",
    "    print(chunk['message']['content'], end='', flush=True)"
   ]
  }
 ],
 "metadata": {
  "kernelspec": {
   "display_name": "pilot-ollama",
   "language": "python",
   "name": "python3"
  },
  "language_info": {
   "codemirror_mode": {
    "name": "ipython",
    "version": 3
   },
   "file_extension": ".py",
   "mimetype": "text/x-python",
   "name": "python",
   "nbconvert_exporter": "python",
   "pygments_lexer": "ipython3",
   "version": "3.12.7"
  }
 },
 "nbformat": 4,
 "nbformat_minor": 2
}
